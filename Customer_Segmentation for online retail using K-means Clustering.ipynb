{
 "cells": [
  {
   "attachments": {},
   "cell_type": "markdown",
   "id": "c4a9074d",
   "metadata": {},
   "source": [
    "# Identify Customer Segments For Online Retail With The Use Of K-Means Clustering\n"
   ]
  },
  {
   "cell_type": "code",
   "execution_count": null,
   "id": "19b56085",
   "metadata": {},
   "outputs": [],
   "source": []
  },
  {
   "cell_type": "markdown",
   "id": "3827258a",
   "metadata": {},
   "source": [
    "## Disabling Python Warnings"
   ]
  },
  {
   "cell_type": "code",
   "execution_count": 1,
   "id": "ce8b853c",
   "metadata": {},
   "outputs": [],
   "source": [
    "#Ignore Python Warnings\n",
    "import warnings as war\n",
    "war.filterwarnings('ignore')"
   ]
  },
  {
   "cell_type": "markdown",
   "id": "1276e209",
   "metadata": {},
   "source": [
    "## Importing Libraries "
   ]
  },
  {
   "cell_type": "code",
   "execution_count": 2,
   "id": "fd1dba87",
   "metadata": {},
   "outputs": [],
   "source": [
    "# Importing all the required libraries for analysis and visualization\n",
    "import numpy as np\n",
    "import pandas as pd\n",
    "import seaborn as sns\n",
    "import matplotlib.pyplot as plt\n",
    "from datetime import datetime"
   ]
  },
  {
   "cell_type": "code",
   "execution_count": null,
   "id": "86d8d964",
   "metadata": {},
   "outputs": [],
   "source": []
  },
  {
   "cell_type": "markdown",
   "id": "2b5f6163",
   "metadata": {},
   "source": [
    "## Importing required Dataset for EDA"
   ]
  },
  {
   "cell_type": "code",
   "execution_count": 3,
   "id": "f094dcc2",
   "metadata": {
    "scrolled": true
   },
   "outputs": [
    {
     "data": {
      "text/html": [
       "<div>\n",
       "<style scoped>\n",
       "    .dataframe tbody tr th:only-of-type {\n",
       "        vertical-align: middle;\n",
       "    }\n",
       "\n",
       "    .dataframe tbody tr th {\n",
       "        vertical-align: top;\n",
       "    }\n",
       "\n",
       "    .dataframe thead th {\n",
       "        text-align: right;\n",
       "    }\n",
       "</style>\n",
       "<table border=\"1\" class=\"dataframe\">\n",
       "  <thead>\n",
       "    <tr style=\"text-align: right;\">\n",
       "      <th></th>\n",
       "      <th>InvoiceNo</th>\n",
       "      <th>StockCode</th>\n",
       "      <th>Description</th>\n",
       "      <th>Quantity</th>\n",
       "      <th>InvoiceDate</th>\n",
       "      <th>UnitPrice</th>\n",
       "      <th>CustomerID</th>\n",
       "      <th>Country</th>\n",
       "    </tr>\n",
       "  </thead>\n",
       "  <tbody>\n",
       "    <tr>\n",
       "      <th>0</th>\n",
       "      <td>536365</td>\n",
       "      <td>85123A</td>\n",
       "      <td>WHITE HANGING HEART T-LIGHT HOLDER</td>\n",
       "      <td>6</td>\n",
       "      <td>2010-12-01 08:26:00</td>\n",
       "      <td>2.55</td>\n",
       "      <td>17850.0</td>\n",
       "      <td>United Kingdom</td>\n",
       "    </tr>\n",
       "    <tr>\n",
       "      <th>1</th>\n",
       "      <td>536365</td>\n",
       "      <td>71053</td>\n",
       "      <td>WHITE METAL LANTERN</td>\n",
       "      <td>6</td>\n",
       "      <td>2010-12-01 08:26:00</td>\n",
       "      <td>3.39</td>\n",
       "      <td>17850.0</td>\n",
       "      <td>United Kingdom</td>\n",
       "    </tr>\n",
       "    <tr>\n",
       "      <th>2</th>\n",
       "      <td>536365</td>\n",
       "      <td>84406B</td>\n",
       "      <td>CREAM CUPID HEARTS COAT HANGER</td>\n",
       "      <td>8</td>\n",
       "      <td>2010-12-01 08:26:00</td>\n",
       "      <td>2.75</td>\n",
       "      <td>17850.0</td>\n",
       "      <td>United Kingdom</td>\n",
       "    </tr>\n",
       "    <tr>\n",
       "      <th>3</th>\n",
       "      <td>536365</td>\n",
       "      <td>84029G</td>\n",
       "      <td>KNITTED UNION FLAG HOT WATER BOTTLE</td>\n",
       "      <td>6</td>\n",
       "      <td>2010-12-01 08:26:00</td>\n",
       "      <td>3.39</td>\n",
       "      <td>17850.0</td>\n",
       "      <td>United Kingdom</td>\n",
       "    </tr>\n",
       "    <tr>\n",
       "      <th>4</th>\n",
       "      <td>536365</td>\n",
       "      <td>84029E</td>\n",
       "      <td>RED WOOLLY HOTTIE WHITE HEART.</td>\n",
       "      <td>6</td>\n",
       "      <td>2010-12-01 08:26:00</td>\n",
       "      <td>3.39</td>\n",
       "      <td>17850.0</td>\n",
       "      <td>United Kingdom</td>\n",
       "    </tr>\n",
       "  </tbody>\n",
       "</table>\n",
       "</div>"
      ],
      "text/plain": [
       "  InvoiceNo StockCode                          Description  Quantity  \\\n",
       "0    536365    85123A   WHITE HANGING HEART T-LIGHT HOLDER         6   \n",
       "1    536365     71053                  WHITE METAL LANTERN         6   \n",
       "2    536365    84406B       CREAM CUPID HEARTS COAT HANGER         8   \n",
       "3    536365    84029G  KNITTED UNION FLAG HOT WATER BOTTLE         6   \n",
       "4    536365    84029E       RED WOOLLY HOTTIE WHITE HEART.         6   \n",
       "\n",
       "          InvoiceDate  UnitPrice  CustomerID         Country  \n",
       "0 2010-12-01 08:26:00       2.55     17850.0  United Kingdom  \n",
       "1 2010-12-01 08:26:00       3.39     17850.0  United Kingdom  \n",
       "2 2010-12-01 08:26:00       2.75     17850.0  United Kingdom  \n",
       "3 2010-12-01 08:26:00       3.39     17850.0  United Kingdom  \n",
       "4 2010-12-01 08:26:00       3.39     17850.0  United Kingdom  "
      ]
     },
     "execution_count": 3,
     "metadata": {},
     "output_type": "execute_result"
    }
   ],
   "source": [
    "#Reading required Dataset excel file and storing its contains into 'online_df' DataFrame & then checking its head()\n",
    "\n",
    "online_df = pd.read_excel(\"Dataset\\Online Retail.xlsx\")\n",
    "online_df.head()"
   ]
  },
  {
   "cell_type": "markdown",
   "id": "7779b7d5",
   "metadata": {},
   "source": [
    "## Checking various stats of our Dataset"
   ]
  },
  {
   "cell_type": "code",
   "execution_count": 4,
   "id": "f6718a61",
   "metadata": {},
   "outputs": [
    {
     "data": {
      "text/plain": [
       "(541909, 8)"
      ]
     },
     "execution_count": 4,
     "metadata": {},
     "output_type": "execute_result"
    }
   ],
   "source": [
    "# Checking Shape of our Dataset\n",
    "\n",
    "online_df.shape"
   ]
  },
  {
   "cell_type": "markdown",
   "id": "134d1c62",
   "metadata": {},
   "source": [
    ">**Insight,**\n",
    ">- **We can see, there are more than 540K Rows and 8 Columns in our Dataset.**"
   ]
  },
  {
   "cell_type": "code",
   "execution_count": 5,
   "id": "af2c5136",
   "metadata": {},
   "outputs": [
    {
     "name": "stdout",
     "output_type": "stream",
     "text": [
      "<class 'pandas.core.frame.DataFrame'>\n",
      "RangeIndex: 541909 entries, 0 to 541908\n",
      "Data columns (total 8 columns):\n",
      " #   Column       Non-Null Count   Dtype         \n",
      "---  ------       --------------   -----         \n",
      " 0   InvoiceNo    541909 non-null  object        \n",
      " 1   StockCode    541909 non-null  object        \n",
      " 2   Description  540455 non-null  object        \n",
      " 3   Quantity     541909 non-null  int64         \n",
      " 4   InvoiceDate  541909 non-null  datetime64[ns]\n",
      " 5   UnitPrice    541909 non-null  float64       \n",
      " 6   CustomerID   406829 non-null  float64       \n",
      " 7   Country      541909 non-null  object        \n",
      "dtypes: datetime64[ns](1), float64(2), int64(1), object(4)\n",
      "memory usage: 33.1+ MB\n"
     ]
    }
   ],
   "source": [
    "# Checking information about the Dataset and its Datatype.\n",
    "\n",
    "online_df.info()\n"
   ]
  },
  {
   "cell_type": "markdown",
   "id": "ef5f8052",
   "metadata": {},
   "source": [
    "> **Insight,**\n",
    ">- **Looking at the data, we can say their are 2 columns with the missing values, for which data cleaning is required before analysis.**"
   ]
  },
  {
   "cell_type": "code",
   "execution_count": 6,
   "id": "a4c35c59",
   "metadata": {},
   "outputs": [
    {
     "data": {
      "text/html": [
       "<div>\n",
       "<style scoped>\n",
       "    .dataframe tbody tr th:only-of-type {\n",
       "        vertical-align: middle;\n",
       "    }\n",
       "\n",
       "    .dataframe tbody tr th {\n",
       "        vertical-align: top;\n",
       "    }\n",
       "\n",
       "    .dataframe thead th {\n",
       "        text-align: right;\n",
       "    }\n",
       "</style>\n",
       "<table border=\"1\" class=\"dataframe\">\n",
       "  <thead>\n",
       "    <tr style=\"text-align: right;\">\n",
       "      <th></th>\n",
       "      <th>InvoiceNo</th>\n",
       "      <th>StockCode</th>\n",
       "      <th>Description</th>\n",
       "      <th>Quantity</th>\n",
       "      <th>InvoiceDate</th>\n",
       "      <th>UnitPrice</th>\n",
       "      <th>CustomerID</th>\n",
       "      <th>Country</th>\n",
       "    </tr>\n",
       "  </thead>\n",
       "  <tbody>\n",
       "    <tr>\n",
       "      <th>count</th>\n",
       "      <td>541909.0</td>\n",
       "      <td>541909</td>\n",
       "      <td>540455</td>\n",
       "      <td>541909.000000</td>\n",
       "      <td>541909</td>\n",
       "      <td>541909.000000</td>\n",
       "      <td>406829.000000</td>\n",
       "      <td>541909</td>\n",
       "    </tr>\n",
       "    <tr>\n",
       "      <th>unique</th>\n",
       "      <td>25900.0</td>\n",
       "      <td>4070</td>\n",
       "      <td>4223</td>\n",
       "      <td>NaN</td>\n",
       "      <td>NaN</td>\n",
       "      <td>NaN</td>\n",
       "      <td>NaN</td>\n",
       "      <td>38</td>\n",
       "    </tr>\n",
       "    <tr>\n",
       "      <th>top</th>\n",
       "      <td>573585.0</td>\n",
       "      <td>85123A</td>\n",
       "      <td>WHITE HANGING HEART T-LIGHT HOLDER</td>\n",
       "      <td>NaN</td>\n",
       "      <td>NaN</td>\n",
       "      <td>NaN</td>\n",
       "      <td>NaN</td>\n",
       "      <td>United Kingdom</td>\n",
       "    </tr>\n",
       "    <tr>\n",
       "      <th>freq</th>\n",
       "      <td>1114.0</td>\n",
       "      <td>2313</td>\n",
       "      <td>2369</td>\n",
       "      <td>NaN</td>\n",
       "      <td>NaN</td>\n",
       "      <td>NaN</td>\n",
       "      <td>NaN</td>\n",
       "      <td>495478</td>\n",
       "    </tr>\n",
       "    <tr>\n",
       "      <th>mean</th>\n",
       "      <td>NaN</td>\n",
       "      <td>NaN</td>\n",
       "      <td>NaN</td>\n",
       "      <td>9.552250</td>\n",
       "      <td>2011-07-04 13:34:57.156386048</td>\n",
       "      <td>4.611114</td>\n",
       "      <td>15287.690570</td>\n",
       "      <td>NaN</td>\n",
       "    </tr>\n",
       "    <tr>\n",
       "      <th>min</th>\n",
       "      <td>NaN</td>\n",
       "      <td>NaN</td>\n",
       "      <td>NaN</td>\n",
       "      <td>-80995.000000</td>\n",
       "      <td>2010-12-01 08:26:00</td>\n",
       "      <td>-11062.060000</td>\n",
       "      <td>12346.000000</td>\n",
       "      <td>NaN</td>\n",
       "    </tr>\n",
       "    <tr>\n",
       "      <th>25%</th>\n",
       "      <td>NaN</td>\n",
       "      <td>NaN</td>\n",
       "      <td>NaN</td>\n",
       "      <td>1.000000</td>\n",
       "      <td>2011-03-28 11:34:00</td>\n",
       "      <td>1.250000</td>\n",
       "      <td>13953.000000</td>\n",
       "      <td>NaN</td>\n",
       "    </tr>\n",
       "    <tr>\n",
       "      <th>50%</th>\n",
       "      <td>NaN</td>\n",
       "      <td>NaN</td>\n",
       "      <td>NaN</td>\n",
       "      <td>3.000000</td>\n",
       "      <td>2011-07-19 17:17:00</td>\n",
       "      <td>2.080000</td>\n",
       "      <td>15152.000000</td>\n",
       "      <td>NaN</td>\n",
       "    </tr>\n",
       "    <tr>\n",
       "      <th>75%</th>\n",
       "      <td>NaN</td>\n",
       "      <td>NaN</td>\n",
       "      <td>NaN</td>\n",
       "      <td>10.000000</td>\n",
       "      <td>2011-10-19 11:27:00</td>\n",
       "      <td>4.130000</td>\n",
       "      <td>16791.000000</td>\n",
       "      <td>NaN</td>\n",
       "    </tr>\n",
       "    <tr>\n",
       "      <th>max</th>\n",
       "      <td>NaN</td>\n",
       "      <td>NaN</td>\n",
       "      <td>NaN</td>\n",
       "      <td>80995.000000</td>\n",
       "      <td>2011-12-09 12:50:00</td>\n",
       "      <td>38970.000000</td>\n",
       "      <td>18287.000000</td>\n",
       "      <td>NaN</td>\n",
       "    </tr>\n",
       "    <tr>\n",
       "      <th>std</th>\n",
       "      <td>NaN</td>\n",
       "      <td>NaN</td>\n",
       "      <td>NaN</td>\n",
       "      <td>218.081158</td>\n",
       "      <td>NaN</td>\n",
       "      <td>96.759853</td>\n",
       "      <td>1713.600303</td>\n",
       "      <td>NaN</td>\n",
       "    </tr>\n",
       "  </tbody>\n",
       "</table>\n",
       "</div>"
      ],
      "text/plain": [
       "        InvoiceNo StockCode                         Description  \\\n",
       "count    541909.0    541909                              540455   \n",
       "unique    25900.0      4070                                4223   \n",
       "top      573585.0    85123A  WHITE HANGING HEART T-LIGHT HOLDER   \n",
       "freq       1114.0      2313                                2369   \n",
       "mean          NaN       NaN                                 NaN   \n",
       "min           NaN       NaN                                 NaN   \n",
       "25%           NaN       NaN                                 NaN   \n",
       "50%           NaN       NaN                                 NaN   \n",
       "75%           NaN       NaN                                 NaN   \n",
       "max           NaN       NaN                                 NaN   \n",
       "std           NaN       NaN                                 NaN   \n",
       "\n",
       "             Quantity                    InvoiceDate      UnitPrice  \\\n",
       "count   541909.000000                         541909  541909.000000   \n",
       "unique            NaN                            NaN            NaN   \n",
       "top               NaN                            NaN            NaN   \n",
       "freq              NaN                            NaN            NaN   \n",
       "mean         9.552250  2011-07-04 13:34:57.156386048       4.611114   \n",
       "min     -80995.000000            2010-12-01 08:26:00  -11062.060000   \n",
       "25%          1.000000            2011-03-28 11:34:00       1.250000   \n",
       "50%          3.000000            2011-07-19 17:17:00       2.080000   \n",
       "75%         10.000000            2011-10-19 11:27:00       4.130000   \n",
       "max      80995.000000            2011-12-09 12:50:00   38970.000000   \n",
       "std        218.081158                            NaN      96.759853   \n",
       "\n",
       "           CustomerID         Country  \n",
       "count   406829.000000          541909  \n",
       "unique            NaN              38  \n",
       "top               NaN  United Kingdom  \n",
       "freq              NaN          495478  \n",
       "mean     15287.690570             NaN  \n",
       "min      12346.000000             NaN  \n",
       "25%      13953.000000             NaN  \n",
       "50%      15152.000000             NaN  \n",
       "75%      16791.000000             NaN  \n",
       "max      18287.000000             NaN  \n",
       "std       1713.600303             NaN  "
      ]
     },
     "execution_count": 6,
     "metadata": {},
     "output_type": "execute_result"
    }
   ],
   "source": [
    "# Now, lets check the Descriptive statistical summary of all the columns in our dataset. \n",
    "\n",
    "online_df.describe(include='all')"
   ]
  },
  {
   "cell_type": "markdown",
   "id": "28e9841c",
   "metadata": {},
   "source": [
    "> **Insight,** \n",
    "> - **As per statistical summary, we can see their are negative values in Quantity and UnitPrice.**"
   ]
  },
  {
   "cell_type": "markdown",
   "id": "0fea1c6c",
   "metadata": {},
   "source": [
    "# Data pre-processing"
   ]
  },
  {
   "cell_type": "markdown",
   "id": "8d6f7f17",
   "metadata": {},
   "source": [
    "### Removing case mis-match\n",
    "\n",
    "Creating Function to convert alphabetic characters to uppercase"
   ]
  },
  {
   "cell_type": "code",
   "execution_count": 7,
   "id": "cd6af901",
   "metadata": {},
   "outputs": [],
   "source": [
    "# Creating Function to convert alphabetic characters to uppercase\n",
    "def to_uppercase_alpha(val):\n",
    "    if isinstance(val, str):\n",
    "        return ''.join([char.upper() if char.isalpha() else char for char in val])\n",
    "    return val"
   ]
  },
  {
   "cell_type": "code",
   "execution_count": 8,
   "id": "c1f11ce2",
   "metadata": {},
   "outputs": [],
   "source": [
    "# Removing case mis-match by Standardizing all the values of string type to Uppercase() using the Function Created.\n",
    "\n",
    "online_df = online_df.map(lambda x: to_uppercase_alpha(x) if isinstance(x, str) else x)"
   ]
  },
  {
   "cell_type": "markdown",
   "id": "a42c773e",
   "metadata": {},
   "source": [
    "### Assigning Correct Datatype\n",
    "Changing Datatype of `InvoiceDate` to 'Datetime' Datatype, `CustomerID` to 'Object' Datatype."
   ]
  },
  {
   "cell_type": "code",
   "execution_count": 9,
   "id": "c7da8ecf",
   "metadata": {},
   "outputs": [],
   "source": [
    "# Changing Datatype of InvoiceDate to Datetime Datatype \n",
    "online_df['InvoiceDate'] = pd.to_datetime(online_df['InvoiceDate'])"
   ]
  },
  {
   "cell_type": "code",
   "execution_count": 10,
   "id": "6ee8ffa3",
   "metadata": {},
   "outputs": [],
   "source": [
    "# Changing datatype of CustomerID from 'float64' to 'object'\n",
    "#online_df['CustomerID'] = online_df['CustomerID'].astype(int)\n",
    "online_df['CustomerID'] = online_df['CustomerID'].astype(object)"
   ]
  },
  {
   "cell_type": "code",
   "execution_count": 11,
   "id": "969df5a5",
   "metadata": {},
   "outputs": [
    {
     "name": "stdout",
     "output_type": "stream",
     "text": [
      "<class 'pandas.core.frame.DataFrame'>\n",
      "RangeIndex: 541909 entries, 0 to 541908\n",
      "Data columns (total 8 columns):\n",
      " #   Column       Non-Null Count   Dtype         \n",
      "---  ------       --------------   -----         \n",
      " 0   InvoiceNo    541909 non-null  object        \n",
      " 1   StockCode    541909 non-null  object        \n",
      " 2   Description  540455 non-null  object        \n",
      " 3   Quantity     541909 non-null  int64         \n",
      " 4   InvoiceDate  541909 non-null  datetime64[ns]\n",
      " 5   UnitPrice    541909 non-null  float64       \n",
      " 6   CustomerID   406829 non-null  object        \n",
      " 7   Country      541909 non-null  object        \n",
      "dtypes: datetime64[ns](1), float64(1), int64(1), object(5)\n",
      "memory usage: 33.1+ MB\n"
     ]
    }
   ],
   "source": [
    "# Checking changes in Dataset\n",
    "online_df.info()"
   ]
  },
  {
   "cell_type": "markdown",
   "id": "ecf9b4d2",
   "metadata": {},
   "source": [
    "# Data Cleaning"
   ]
  },
  {
   "cell_type": "markdown",
   "id": "e36e8654",
   "metadata": {},
   "source": [
    "### Checking for Duplicates Rows Entires and Removing them "
   ]
  },
  {
   "cell_type": "code",
   "execution_count": 12,
   "id": "d64f9593",
   "metadata": {},
   "outputs": [
    {
     "data": {
      "text/plain": [
       "5268"
      ]
     },
     "execution_count": 12,
     "metadata": {},
     "output_type": "execute_result"
    }
   ],
   "source": [
    "# Checking for Duplicate Entires in our Dataset\n",
    "\n",
    "online_df.duplicated().sum()"
   ]
  },
  {
   "cell_type": "code",
   "execution_count": 13,
   "id": "88dba4d2",
   "metadata": {},
   "outputs": [
    {
     "name": "stdout",
     "output_type": "stream",
     "text": [
      "(536641, 8)\n"
     ]
    }
   ],
   "source": [
    "# Removing Duplicates and checking shape change\n",
    "online_df.drop_duplicates(inplace=True)\n",
    "print(online_df.shape)"
   ]
  },
  {
   "cell_type": "markdown",
   "id": "549630c8",
   "metadata": {},
   "source": [
    "### Checking for Missing Values in our Dataset"
   ]
  },
  {
   "cell_type": "code",
   "execution_count": 14,
   "id": "b030a5ce",
   "metadata": {},
   "outputs": [
    {
     "data": {
      "text/plain": [
       "InvoiceNo           0\n",
       "StockCode           0\n",
       "Description      1454\n",
       "Quantity            0\n",
       "InvoiceDate         0\n",
       "UnitPrice           0\n",
       "CustomerID     135037\n",
       "Country             0\n",
       "dtype: int64"
      ]
     },
     "execution_count": 14,
     "metadata": {},
     "output_type": "execute_result"
    }
   ],
   "source": [
    "# Checking null values in the Dataset\n",
    "online_df.isnull().sum()"
   ]
  },
  {
   "cell_type": "code",
   "execution_count": 15,
   "id": "72056337",
   "metadata": {},
   "outputs": [
    {
     "data": {
      "text/plain": [
       "InvoiceNo       0.000000\n",
       "StockCode       0.000000\n",
       "Description     0.270945\n",
       "Quantity        0.000000\n",
       "InvoiceDate     0.000000\n",
       "UnitPrice       0.000000\n",
       "CustomerID     25.163377\n",
       "Country         0.000000\n",
       "dtype: float64"
      ]
     },
     "execution_count": 15,
     "metadata": {},
     "output_type": "execute_result"
    }
   ],
   "source": [
    "# Checking percentage of null values\n",
    "online_df.isna().sum()/len(online_df)*100"
   ]
  },
  {
   "cell_type": "markdown",
   "id": "0744eb07",
   "metadata": {},
   "source": [
    "> **Insight,**\n",
    ">- We can see, There are 2 cloumns having Missing Values\n",
    ">- **`CustomerID`** cloumn has around **25.16%** missing values i.e. ~135K null values\n",
    ">- **`Description`** column has around **0.27%** missing values i.e. 1454 null values  "
   ]
  },
  {
   "cell_type": "markdown",
   "id": "1d688521",
   "metadata": {},
   "source": [
    "### Treating Missing Values"
   ]
  },
  {
   "cell_type": "markdown",
   "id": "4dadf5e9",
   "metadata": {},
   "source": [
    "To deal with missing values in **`CustomerID`**, which has around **25.16%** of null data, \n",
    "**We can Drop all the rows with missing `CustomerID`**. \n",
    "\n",
    "This decision was made because the aim of this project is to find customer segments by exploring data at customer level, therefore all observations that are not assigned to a particular customer cannot be used for analysis."
   ]
  },
  {
   "cell_type": "code",
   "execution_count": 16,
   "id": "437d0a49",
   "metadata": {},
   "outputs": [],
   "source": [
    "# Droping all rows that has null in `CustomerID` \n",
    "online_df.dropna(axis=0 , subset=['CustomerID'] , inplace=True)"
   ]
  },
  {
   "cell_type": "code",
   "execution_count": 17,
   "id": "c387a4f7",
   "metadata": {},
   "outputs": [
    {
     "data": {
      "text/plain": [
       "InvoiceNo      0\n",
       "StockCode      0\n",
       "Description    0\n",
       "Quantity       0\n",
       "InvoiceDate    0\n",
       "UnitPrice      0\n",
       "CustomerID     0\n",
       "Country        0\n",
       "dtype: int64"
      ]
     },
     "execution_count": 17,
     "metadata": {},
     "output_type": "execute_result"
    }
   ],
   "source": [
    "# Now, let's check the changes and remaining null values in our Dataset\n",
    "online_df.isnull().sum()"
   ]
  },
  {
   "cell_type": "code",
   "execution_count": 18,
   "id": "94ee4ad7",
   "metadata": {},
   "outputs": [
    {
     "data": {
      "text/plain": [
       "(401604, 8)"
      ]
     },
     "execution_count": 18,
     "metadata": {},
     "output_type": "execute_result"
    }
   ],
   "source": [
    "# Checking Shape change of our Dataset\n",
    "online_df.shape"
   ]
  },
  {
   "cell_type": "markdown",
   "id": "b9e990ec",
   "metadata": {},
   "source": [
    "# Creating new Features"
   ]
  },
  {
   "cell_type": "markdown",
   "id": "c9a5bf4d",
   "metadata": {},
   "source": [
    "### Creating New Variable **`Order_Amount`**"
   ]
  },
  {
   "cell_type": "code",
   "execution_count": 19,
   "id": "13910ee4",
   "metadata": {},
   "outputs": [
    {
     "data": {
      "text/html": [
       "<div>\n",
       "<style scoped>\n",
       "    .dataframe tbody tr th:only-of-type {\n",
       "        vertical-align: middle;\n",
       "    }\n",
       "\n",
       "    .dataframe tbody tr th {\n",
       "        vertical-align: top;\n",
       "    }\n",
       "\n",
       "    .dataframe thead th {\n",
       "        text-align: right;\n",
       "    }\n",
       "</style>\n",
       "<table border=\"1\" class=\"dataframe\">\n",
       "  <thead>\n",
       "    <tr style=\"text-align: right;\">\n",
       "      <th></th>\n",
       "      <th>InvoiceNo</th>\n",
       "      <th>StockCode</th>\n",
       "      <th>Description</th>\n",
       "      <th>Quantity</th>\n",
       "      <th>InvoiceDate</th>\n",
       "      <th>UnitPrice</th>\n",
       "      <th>CustomerID</th>\n",
       "      <th>Country</th>\n",
       "      <th>Order_Amount</th>\n",
       "    </tr>\n",
       "  </thead>\n",
       "  <tbody>\n",
       "    <tr>\n",
       "      <th>0</th>\n",
       "      <td>536365</td>\n",
       "      <td>85123A</td>\n",
       "      <td>WHITE HANGING HEART T-LIGHT HOLDER</td>\n",
       "      <td>6</td>\n",
       "      <td>2010-12-01 08:26:00</td>\n",
       "      <td>2.55</td>\n",
       "      <td>17850.0</td>\n",
       "      <td>UNITED KINGDOM</td>\n",
       "      <td>15.30</td>\n",
       "    </tr>\n",
       "    <tr>\n",
       "      <th>1</th>\n",
       "      <td>536365</td>\n",
       "      <td>71053</td>\n",
       "      <td>WHITE METAL LANTERN</td>\n",
       "      <td>6</td>\n",
       "      <td>2010-12-01 08:26:00</td>\n",
       "      <td>3.39</td>\n",
       "      <td>17850.0</td>\n",
       "      <td>UNITED KINGDOM</td>\n",
       "      <td>20.34</td>\n",
       "    </tr>\n",
       "    <tr>\n",
       "      <th>2</th>\n",
       "      <td>536365</td>\n",
       "      <td>84406B</td>\n",
       "      <td>CREAM CUPID HEARTS COAT HANGER</td>\n",
       "      <td>8</td>\n",
       "      <td>2010-12-01 08:26:00</td>\n",
       "      <td>2.75</td>\n",
       "      <td>17850.0</td>\n",
       "      <td>UNITED KINGDOM</td>\n",
       "      <td>22.00</td>\n",
       "    </tr>\n",
       "    <tr>\n",
       "      <th>3</th>\n",
       "      <td>536365</td>\n",
       "      <td>84029G</td>\n",
       "      <td>KNITTED UNION FLAG HOT WATER BOTTLE</td>\n",
       "      <td>6</td>\n",
       "      <td>2010-12-01 08:26:00</td>\n",
       "      <td>3.39</td>\n",
       "      <td>17850.0</td>\n",
       "      <td>UNITED KINGDOM</td>\n",
       "      <td>20.34</td>\n",
       "    </tr>\n",
       "    <tr>\n",
       "      <th>4</th>\n",
       "      <td>536365</td>\n",
       "      <td>84029E</td>\n",
       "      <td>RED WOOLLY HOTTIE WHITE HEART.</td>\n",
       "      <td>6</td>\n",
       "      <td>2010-12-01 08:26:00</td>\n",
       "      <td>3.39</td>\n",
       "      <td>17850.0</td>\n",
       "      <td>UNITED KINGDOM</td>\n",
       "      <td>20.34</td>\n",
       "    </tr>\n",
       "  </tbody>\n",
       "</table>\n",
       "</div>"
      ],
      "text/plain": [
       "  InvoiceNo StockCode                          Description  Quantity  \\\n",
       "0    536365    85123A   WHITE HANGING HEART T-LIGHT HOLDER         6   \n",
       "1    536365     71053                  WHITE METAL LANTERN         6   \n",
       "2    536365    84406B       CREAM CUPID HEARTS COAT HANGER         8   \n",
       "3    536365    84029G  KNITTED UNION FLAG HOT WATER BOTTLE         6   \n",
       "4    536365    84029E       RED WOOLLY HOTTIE WHITE HEART.         6   \n",
       "\n",
       "          InvoiceDate  UnitPrice CustomerID         Country  Order_Amount  \n",
       "0 2010-12-01 08:26:00       2.55    17850.0  UNITED KINGDOM         15.30  \n",
       "1 2010-12-01 08:26:00       3.39    17850.0  UNITED KINGDOM         20.34  \n",
       "2 2010-12-01 08:26:00       2.75    17850.0  UNITED KINGDOM         22.00  \n",
       "3 2010-12-01 08:26:00       3.39    17850.0  UNITED KINGDOM         20.34  \n",
       "4 2010-12-01 08:26:00       3.39    17850.0  UNITED KINGDOM         20.34  "
      ]
     },
     "execution_count": 19,
     "metadata": {},
     "output_type": "execute_result"
    }
   ],
   "source": [
    "# Creating new variable 'Order_Amount' = Quantity * UnitPrice for each order\n",
    "\n",
    "online_df['Order_Amount'] = online_df['Quantity'] * online_df['UnitPrice']\n",
    "online_df.head()"
   ]
  },
  {
   "cell_type": "code",
   "execution_count": 62,
   "id": "586f6afe",
   "metadata": {},
   "outputs": [],
   "source": [
    "# Lets visulize the distrubution of Order_Amount\n",
    "#plt.figure(figsize=[12,3])\n",
    "#sns.histplot(x=online_df['Order_Amount'], kde=True)\n",
    "#plt.title(\"Distribution of 'AMT_INCOME_TOTAL' \")\n",
    "#plt.show()"
   ]
  },
  {
   "cell_type": "markdown",
   "id": "9efb25e2",
   "metadata": {},
   "source": [
    "### Creating New Variable **`Is_Cancelled`**\n",
    "\n",
    "- As per the data dictionary, **`InvoiceNo`** starting with a **'C'** are the cancelled orders. \n",
    "- Thus, creating new feature variable **`Is_Cancelled`**, having value **'0'** if the order is **Not Cancelled** and value **'1'** if the order is **Cancelled**."
   ]
  },
  {
   "cell_type": "code",
   "execution_count": 20,
   "id": "d7bbf5d5",
   "metadata": {},
   "outputs": [
    {
     "data": {
      "text/html": [
       "<div>\n",
       "<style scoped>\n",
       "    .dataframe tbody tr th:only-of-type {\n",
       "        vertical-align: middle;\n",
       "    }\n",
       "\n",
       "    .dataframe tbody tr th {\n",
       "        vertical-align: top;\n",
       "    }\n",
       "\n",
       "    .dataframe thead th {\n",
       "        text-align: right;\n",
       "    }\n",
       "</style>\n",
       "<table border=\"1\" class=\"dataframe\">\n",
       "  <thead>\n",
       "    <tr style=\"text-align: right;\">\n",
       "      <th></th>\n",
       "      <th>InvoiceNo</th>\n",
       "      <th>StockCode</th>\n",
       "      <th>Description</th>\n",
       "      <th>Quantity</th>\n",
       "      <th>InvoiceDate</th>\n",
       "      <th>UnitPrice</th>\n",
       "      <th>CustomerID</th>\n",
       "      <th>Country</th>\n",
       "      <th>Order_Amount</th>\n",
       "      <th>Is_Cancelled</th>\n",
       "    </tr>\n",
       "  </thead>\n",
       "  <tbody>\n",
       "    <tr>\n",
       "      <th>0</th>\n",
       "      <td>536365</td>\n",
       "      <td>85123A</td>\n",
       "      <td>WHITE HANGING HEART T-LIGHT HOLDER</td>\n",
       "      <td>6</td>\n",
       "      <td>2010-12-01 08:26:00</td>\n",
       "      <td>2.55</td>\n",
       "      <td>17850.0</td>\n",
       "      <td>UNITED KINGDOM</td>\n",
       "      <td>15.30</td>\n",
       "      <td>0</td>\n",
       "    </tr>\n",
       "    <tr>\n",
       "      <th>1</th>\n",
       "      <td>536365</td>\n",
       "      <td>71053</td>\n",
       "      <td>WHITE METAL LANTERN</td>\n",
       "      <td>6</td>\n",
       "      <td>2010-12-01 08:26:00</td>\n",
       "      <td>3.39</td>\n",
       "      <td>17850.0</td>\n",
       "      <td>UNITED KINGDOM</td>\n",
       "      <td>20.34</td>\n",
       "      <td>0</td>\n",
       "    </tr>\n",
       "    <tr>\n",
       "      <th>2</th>\n",
       "      <td>536365</td>\n",
       "      <td>84406B</td>\n",
       "      <td>CREAM CUPID HEARTS COAT HANGER</td>\n",
       "      <td>8</td>\n",
       "      <td>2010-12-01 08:26:00</td>\n",
       "      <td>2.75</td>\n",
       "      <td>17850.0</td>\n",
       "      <td>UNITED KINGDOM</td>\n",
       "      <td>22.00</td>\n",
       "      <td>0</td>\n",
       "    </tr>\n",
       "    <tr>\n",
       "      <th>3</th>\n",
       "      <td>536365</td>\n",
       "      <td>84029G</td>\n",
       "      <td>KNITTED UNION FLAG HOT WATER BOTTLE</td>\n",
       "      <td>6</td>\n",
       "      <td>2010-12-01 08:26:00</td>\n",
       "      <td>3.39</td>\n",
       "      <td>17850.0</td>\n",
       "      <td>UNITED KINGDOM</td>\n",
       "      <td>20.34</td>\n",
       "      <td>0</td>\n",
       "    </tr>\n",
       "    <tr>\n",
       "      <th>4</th>\n",
       "      <td>536365</td>\n",
       "      <td>84029E</td>\n",
       "      <td>RED WOOLLY HOTTIE WHITE HEART.</td>\n",
       "      <td>6</td>\n",
       "      <td>2010-12-01 08:26:00</td>\n",
       "      <td>3.39</td>\n",
       "      <td>17850.0</td>\n",
       "      <td>UNITED KINGDOM</td>\n",
       "      <td>20.34</td>\n",
       "      <td>0</td>\n",
       "    </tr>\n",
       "  </tbody>\n",
       "</table>\n",
       "</div>"
      ],
      "text/plain": [
       "  InvoiceNo StockCode                          Description  Quantity  \\\n",
       "0    536365    85123A   WHITE HANGING HEART T-LIGHT HOLDER         6   \n",
       "1    536365     71053                  WHITE METAL LANTERN         6   \n",
       "2    536365    84406B       CREAM CUPID HEARTS COAT HANGER         8   \n",
       "3    536365    84029G  KNITTED UNION FLAG HOT WATER BOTTLE         6   \n",
       "4    536365    84029E       RED WOOLLY HOTTIE WHITE HEART.         6   \n",
       "\n",
       "          InvoiceDate  UnitPrice CustomerID         Country  Order_Amount  \\\n",
       "0 2010-12-01 08:26:00       2.55    17850.0  UNITED KINGDOM         15.30   \n",
       "1 2010-12-01 08:26:00       3.39    17850.0  UNITED KINGDOM         20.34   \n",
       "2 2010-12-01 08:26:00       2.75    17850.0  UNITED KINGDOM         22.00   \n",
       "3 2010-12-01 08:26:00       3.39    17850.0  UNITED KINGDOM         20.34   \n",
       "4 2010-12-01 08:26:00       3.39    17850.0  UNITED KINGDOM         20.34   \n",
       "\n",
       "   Is_Cancelled  \n",
       "0             0  \n",
       "1             0  \n",
       "2             0  \n",
       "3             0  \n",
       "4             0  "
      ]
     },
     "execution_count": 20,
     "metadata": {},
     "output_type": "execute_result"
    }
   ],
   "source": [
    "online_df['Is_Cancelled'] = online_df['InvoiceNo'].apply(lambda x: 1 if isinstance(x, str) and x.startswith('C') else 0)\n",
    "online_df.head()"
   ]
  },
  {
   "cell_type": "code",
   "execution_count": 21,
   "id": "87e903da",
   "metadata": {},
   "outputs": [
    {
     "data": {
      "text/plain": [
       "Is_Cancelled\n",
       "0    392732\n",
       "1      8872\n",
       "Name: count, dtype: int64"
      ]
     },
     "execution_count": 21,
     "metadata": {},
     "output_type": "execute_result"
    }
   ],
   "source": [
    "# Lets check the value count of Cancelled Orders\n",
    "online_df['Is_Cancelled'].value_counts()\n"
   ]
  },
  {
   "cell_type": "code",
   "execution_count": 22,
   "id": "e4e42d84",
   "metadata": {},
   "outputs": [
    {
     "data": {
      "text/plain": [
       "Is_Cancelled\n",
       "0    97.790859\n",
       "1     2.209141\n",
       "Name: count, dtype: float64"
      ]
     },
     "execution_count": 22,
     "metadata": {},
     "output_type": "execute_result"
    }
   ],
   "source": [
    "# Checking the percentage of Cancelled Orders\n",
    "online_df['Is_Cancelled'].value_counts()/len(online_df)*100"
   ]
  },
  {
   "cell_type": "code",
   "execution_count": 23,
   "id": "fc937233",
   "metadata": {},
   "outputs": [
    {
     "data": {
      "image/png": "[encoded data removed]",
      "text/plain": [
       "<Figure size 600x400 with 1 Axes>"
      ]
     },
     "metadata": {},
     "output_type": "display_data"
    }
   ],
   "source": [
    "# Lets visulize the Cancelled order percentage\n",
    "plt.figure(figsize=[6,4])\n",
    "ax = sns.countplot(x=online_df['Is_Cancelled'],  legend='auto')\n",
    "for p in ax.patches:\n",
    "    percentage = '{:.2f}%'.format(100 * p.get_height() / len(online_df))\n",
    "    x = p.get_x() + p.get_width() / 2 - 0.05\n",
    "    y = p.get_y() + p.get_height() + 0.5\n",
    "    ax.annotate(percentage, (x, y), ha='center', va='center', fontsize=7, color='black', xytext=(5,5),\n",
    "               textcoords='offset points')\n",
    "plt.show()"
   ]
  },
  {
   "cell_type": "markdown",
   "id": "d330ec9b",
   "metadata": {},
   "source": [
    ">**Insight,**\n",
    ">- **Their are only 2.21% of Cancelled Orders (i.e. 8872)**\n",
    ">- **And rest 97.79% Orders are not cancelled (i.e. 392732)**"
   ]
  },
  {
   "cell_type": "markdown",
   "id": "5def5ff2",
   "metadata": {},
   "source": [
    "# Data Analysis"
   ]
  },
  {
   "cell_type": "markdown",
   "id": "36ba6045",
   "metadata": {},
   "source": [
    "###  Grouping data by **`CustomerID`**"
   ]
  },
  {
   "cell_type": "markdown",
   "id": "79421d26-71ca-4ec2-9e6a-6e879f1a891e",
   "metadata": {},
   "source": [
    "Now, let start creating customer profiles by grouping data by **`CustomerID`**. This will make it easier to explore customers characteristics. "
   ]
  },
  {
   "cell_type": "code",
   "execution_count": 25,
   "id": "1f9f49a9-2102-4da8-8a66-99942ed6afc0",
   "metadata": {},
   "outputs": [],
   "source": [
    "# Firstly lets create an empty Dataframe as 'Customer_Profile'\n",
    "Customer_Profile = pd.DataFrame()\n"
   ]
  },
  {
   "cell_type": "code",
   "execution_count": 26,
   "id": "6f831119",
   "metadata": {},
   "outputs": [
    {
     "data": {
      "text/plain": [
       "CustomerID\n",
       "12346.0      2\n",
       "12347.0    182\n",
       "12348.0     31\n",
       "12349.0     73\n",
       "12350.0     17\n",
       "Name: Order_per_Customer, dtype: int64"
      ]
     },
     "execution_count": 26,
     "metadata": {},
     "output_type": "execute_result"
    }
   ],
   "source": [
    "# Calculating Total number of `Orders_per_Customer` and storing in Dataframe `Customer_Profile`\n",
    "Customer_Profile['Order_per_Customer'] = online_df.groupby(by='CustomerID')['InvoiceNo'].count()\n",
    "Customer_Profile['Order_per_Customer'].head()\n"
   ]
  },
  {
   "cell_type": "code",
   "execution_count": 27,
   "id": "22493549",
   "metadata": {},
   "outputs": [
    {
     "data": {
      "text/plain": [
       "CustomerID\n",
       "12346.0       0\n",
       "12347.0    2458\n",
       "12348.0    2341\n",
       "12349.0     631\n",
       "12350.0     197\n",
       "Name: Quantity_per_Customer, dtype: int64"
      ]
     },
     "execution_count": 27,
     "metadata": {},
     "output_type": "execute_result"
    }
   ],
   "source": [
    "# Calculating the total item quantity ordered per customer\n",
    "Customer_Profile['Quantity_per_Customer'] = online_df.groupby(by='CustomerID')['Quantity'].sum()\n",
    "Customer_Profile['Quantity_per_Customer'].head()\n"
   ]
  },
  {
   "cell_type": "code",
   "execution_count": 28,
   "id": "98d64de4",
   "metadata": {},
   "outputs": [
    {
     "data": {
      "text/plain": [
       "CustomerID\n",
       "12346.0       0.00\n",
       "12347.0    4310.00\n",
       "12348.0    1797.24\n",
       "12349.0    1757.55\n",
       "12350.0     334.40\n",
       "Name: Total_Spending, dtype: float64"
      ]
     },
     "execution_count": 28,
     "metadata": {},
     "output_type": "execute_result"
    }
   ],
   "source": [
    "# Calculating the total order value per customer i.e. `Total_Spending`\n",
    "Customer_Profile['Total_Spending'] = online_df.groupby(by='CustomerID')['Order_Amount'].sum()\n",
    "Customer_Profile['Total_Spending'].head()\n"
   ]
  },
  {
   "cell_type": "code",
   "execution_count": 29,
   "id": "b4bb4cae-fb48-4c8b-aabf-de5b5826abcf",
   "metadata": {},
   "outputs": [
    {
     "data": {
      "text/plain": [
       "CustomerID\n",
       "12346.0    1.040000\n",
       "12347.0    2.644011\n",
       "12348.0    5.764839\n",
       "12349.0    8.289041\n",
       "12350.0    3.841176\n",
       "Name: Avg_Item_Price, dtype: float64"
      ]
     },
     "execution_count": 29,
     "metadata": {},
     "output_type": "execute_result"
    }
   ],
   "source": [
    "# Calculating the Average Unitprice per customer, to see if the customer buys expensive items or not\n",
    "Customer_Profile['Avg_Item_Price'] = online_df.groupby(by='CustomerID')['UnitPrice'].mean()\n",
    "Customer_Profile['Avg_Item_Price'].head()\n"
   ]
  },
  {
   "cell_type": "code",
   "execution_count": 30,
   "id": "c6360edb-8dce-49c1-823d-dd33b2b0bf89",
   "metadata": {},
   "outputs": [
    {
     "data": {
      "text/plain": [
       "CustomerID\n",
       "12346.0    1\n",
       "12347.0    0\n",
       "12348.0    0\n",
       "12349.0    0\n",
       "12350.0    0\n",
       "Name: Order_Cancellations, dtype: int64"
      ]
     },
     "execution_count": 30,
     "metadata": {},
     "output_type": "execute_result"
    }
   ],
   "source": [
    "# Calculating total Cancelled orders by each customer\n",
    "Customer_Profile['Order_Cancellations'] = online_df.groupby(by='CustomerID')['Is_Cancelled'].sum()\n",
    "Customer_Profile['Order_Cancellations'].head()\n"
   ]
  },
  {
   "cell_type": "code",
   "execution_count": 31,
   "id": "da646ef7-5765-4442-b574-31db0c2d1787",
   "metadata": {},
   "outputs": [
    {
     "data": {
      "text/plain": [
       "CustomerID\n",
       "12346.0    UNITED KINGDOM\n",
       "12347.0           ICELAND\n",
       "12348.0           FINLAND\n",
       "12349.0             ITALY\n",
       "12350.0            NORWAY\n",
       "                ...      \n",
       "18280.0    UNITED KINGDOM\n",
       "18281.0    UNITED KINGDOM\n",
       "18282.0    UNITED KINGDOM\n",
       "18283.0    UNITED KINGDOM\n",
       "18287.0    UNITED KINGDOM\n",
       "Name: Country, Length: 4372, dtype: object"
      ]
     },
     "execution_count": 31,
     "metadata": {},
     "output_type": "execute_result"
    }
   ],
   "source": [
    "# Now, Lets add Country of each customer in their Customer_Profile Dataframe\n",
    "Customer_Profile['Country'] = online_df.groupby(by='CustomerID')['Country'].first()\n",
    "Customer_Profile['Country'] \n"
   ]
  },
  {
   "cell_type": "markdown",
   "id": "e93f9e01-bcc5-4756-9521-63d3e6b70f29",
   "metadata": {},
   "source": [
    "**Now, Let's create a new dataframe `customer_order_span` with column `Days_As_Customer` by taking the difference in days between the date of a customer's last order, and the date of their first order.**"
   ]
  },
  {
   "cell_type": "code",
   "execution_count": 32,
   "id": "469bbcb9",
   "metadata": {},
   "outputs": [
    {
     "data": {
      "text/html": [
       "<div>\n",
       "<style scoped>\n",
       "    .dataframe tbody tr th:only-of-type {\n",
       "        vertical-align: middle;\n",
       "    }\n",
       "\n",
       "    .dataframe tbody tr th {\n",
       "        vertical-align: top;\n",
       "    }\n",
       "\n",
       "    .dataframe thead th {\n",
       "        text-align: right;\n",
       "    }\n",
       "</style>\n",
       "<table border=\"1\" class=\"dataframe\">\n",
       "  <thead>\n",
       "    <tr style=\"text-align: right;\">\n",
       "      <th></th>\n",
       "      <th>min</th>\n",
       "      <th>max</th>\n",
       "      <th>Days_As_Customer</th>\n",
       "    </tr>\n",
       "    <tr>\n",
       "      <th>CustomerID</th>\n",
       "      <th></th>\n",
       "      <th></th>\n",
       "      <th></th>\n",
       "    </tr>\n",
       "  </thead>\n",
       "  <tbody>\n",
       "    <tr>\n",
       "      <th>12346.0</th>\n",
       "      <td>2011-01-18 10:01:00</td>\n",
       "      <td>2011-01-18 10:17:00</td>\n",
       "      <td>0</td>\n",
       "    </tr>\n",
       "    <tr>\n",
       "      <th>12347.0</th>\n",
       "      <td>2010-12-07 14:57:00</td>\n",
       "      <td>2011-12-07 15:52:00</td>\n",
       "      <td>365</td>\n",
       "    </tr>\n",
       "    <tr>\n",
       "      <th>12348.0</th>\n",
       "      <td>2010-12-16 19:09:00</td>\n",
       "      <td>2011-09-25 13:13:00</td>\n",
       "      <td>282</td>\n",
       "    </tr>\n",
       "    <tr>\n",
       "      <th>12349.0</th>\n",
       "      <td>2011-11-21 09:51:00</td>\n",
       "      <td>2011-11-21 09:51:00</td>\n",
       "      <td>0</td>\n",
       "    </tr>\n",
       "    <tr>\n",
       "      <th>12350.0</th>\n",
       "      <td>2011-02-02 16:01:00</td>\n",
       "      <td>2011-02-02 16:01:00</td>\n",
       "      <td>0</td>\n",
       "    </tr>\n",
       "  </tbody>\n",
       "</table>\n",
       "</div>"
      ],
      "text/plain": [
       "                           min                 max  Days_As_Customer\n",
       "CustomerID                                                          \n",
       "12346.0    2011-01-18 10:01:00 2011-01-18 10:17:00                 0\n",
       "12347.0    2010-12-07 14:57:00 2011-12-07 15:52:00               365\n",
       "12348.0    2010-12-16 19:09:00 2011-09-25 13:13:00               282\n",
       "12349.0    2011-11-21 09:51:00 2011-11-21 09:51:00                 0\n",
       "12350.0    2011-02-02 16:01:00 2011-02-02 16:01:00                 0"
      ]
     },
     "execution_count": 32,
     "metadata": {},
     "output_type": "execute_result"
    }
   ],
   "source": [
    "# Calculating the number of Days as Customer\n",
    "\n",
    "customer_order_span = online_df.groupby(by='CustomerID')['InvoiceDate'].agg(['min','max'])\n",
    "\n",
    "customer_order_span['Days_As_Customer'] = (customer_order_span['max'] - customer_order_span['min']).dt.days\n",
    "customer_order_span.head()"
   ]
  },
  {
   "cell_type": "code",
   "execution_count": 33,
   "id": "44547c80",
   "metadata": {},
   "outputs": [
    {
     "data": {
      "text/html": [
       "<div>\n",
       "<style scoped>\n",
       "    .dataframe tbody tr th:only-of-type {\n",
       "        vertical-align: middle;\n",
       "    }\n",
       "\n",
       "    .dataframe tbody tr th {\n",
       "        vertical-align: top;\n",
       "    }\n",
       "\n",
       "    .dataframe thead th {\n",
       "        text-align: right;\n",
       "    }\n",
       "</style>\n",
       "<table border=\"1\" class=\"dataframe\">\n",
       "  <thead>\n",
       "    <tr style=\"text-align: right;\">\n",
       "      <th></th>\n",
       "      <th>Days_As_Customer</th>\n",
       "    </tr>\n",
       "    <tr>\n",
       "      <th>CustomerID</th>\n",
       "      <th></th>\n",
       "    </tr>\n",
       "  </thead>\n",
       "  <tbody>\n",
       "    <tr>\n",
       "      <th>12346.0</th>\n",
       "      <td>0</td>\n",
       "    </tr>\n",
       "    <tr>\n",
       "      <th>12347.0</th>\n",
       "      <td>365</td>\n",
       "    </tr>\n",
       "    <tr>\n",
       "      <th>12348.0</th>\n",
       "      <td>282</td>\n",
       "    </tr>\n",
       "    <tr>\n",
       "      <th>12349.0</th>\n",
       "      <td>0</td>\n",
       "    </tr>\n",
       "    <tr>\n",
       "      <th>12350.0</th>\n",
       "      <td>0</td>\n",
       "    </tr>\n",
       "  </tbody>\n",
       "</table>\n",
       "</div>"
      ],
      "text/plain": [
       "            Days_As_Customer\n",
       "CustomerID                  \n",
       "12346.0                    0\n",
       "12347.0                  365\n",
       "12348.0                  282\n",
       "12349.0                    0\n",
       "12350.0                    0"
      ]
     },
     "execution_count": 33,
     "metadata": {},
     "output_type": "execute_result"
    }
   ],
   "source": [
    "# Droping column `min` and `max` from `customer_order_span` as its not required further.\n",
    "customer_order_span.drop(['min','max'], axis=1 , inplace=True)\n",
    "\n",
    "# Checking head of 'customer_order_span'\n",
    "customer_order_span.head()"
   ]
  },
  {
   "cell_type": "markdown",
   "id": "87b3b81f-0073-4f86-8f70-08ae2c9575d1",
   "metadata": {},
   "source": [
    "Now, Let's Merge **`customer_order_span`** to **`Customer_Profile`** Dataframe"
   ]
  },
  {
   "cell_type": "code",
   "execution_count": 35,
   "id": "98596a5c",
   "metadata": {},
   "outputs": [
    {
     "data": {
      "text/html": [
       "<div>\n",
       "<style scoped>\n",
       "    .dataframe tbody tr th:only-of-type {\n",
       "        vertical-align: middle;\n",
       "    }\n",
       "\n",
       "    .dataframe tbody tr th {\n",
       "        vertical-align: top;\n",
       "    }\n",
       "\n",
       "    .dataframe thead th {\n",
       "        text-align: right;\n",
       "    }\n",
       "</style>\n",
       "<table border=\"1\" class=\"dataframe\">\n",
       "  <thead>\n",
       "    <tr style=\"text-align: right;\">\n",
       "      <th></th>\n",
       "      <th>Order_per_Customer</th>\n",
       "      <th>Quantity_per_Customer</th>\n",
       "      <th>Total_Spending</th>\n",
       "      <th>Avg_Item_Price</th>\n",
       "      <th>Order_Cancellations</th>\n",
       "      <th>Country</th>\n",
       "      <th>Days_As_Customer</th>\n",
       "    </tr>\n",
       "    <tr>\n",
       "      <th>CustomerID</th>\n",
       "      <th></th>\n",
       "      <th></th>\n",
       "      <th></th>\n",
       "      <th></th>\n",
       "      <th></th>\n",
       "      <th></th>\n",
       "      <th></th>\n",
       "    </tr>\n",
       "  </thead>\n",
       "  <tbody>\n",
       "    <tr>\n",
       "      <th>12346.0</th>\n",
       "      <td>2</td>\n",
       "      <td>0</td>\n",
       "      <td>0.00</td>\n",
       "      <td>1.040000</td>\n",
       "      <td>1</td>\n",
       "      <td>UNITED KINGDOM</td>\n",
       "      <td>0</td>\n",
       "    </tr>\n",
       "    <tr>\n",
       "      <th>12347.0</th>\n",
       "      <td>182</td>\n",
       "      <td>2458</td>\n",
       "      <td>4310.00</td>\n",
       "      <td>2.644011</td>\n",
       "      <td>0</td>\n",
       "      <td>ICELAND</td>\n",
       "      <td>365</td>\n",
       "    </tr>\n",
       "    <tr>\n",
       "      <th>12348.0</th>\n",
       "      <td>31</td>\n",
       "      <td>2341</td>\n",
       "      <td>1797.24</td>\n",
       "      <td>5.764839</td>\n",
       "      <td>0</td>\n",
       "      <td>FINLAND</td>\n",
       "      <td>282</td>\n",
       "    </tr>\n",
       "    <tr>\n",
       "      <th>12349.0</th>\n",
       "      <td>73</td>\n",
       "      <td>631</td>\n",
       "      <td>1757.55</td>\n",
       "      <td>8.289041</td>\n",
       "      <td>0</td>\n",
       "      <td>ITALY</td>\n",
       "      <td>0</td>\n",
       "    </tr>\n",
       "    <tr>\n",
       "      <th>12350.0</th>\n",
       "      <td>17</td>\n",
       "      <td>197</td>\n",
       "      <td>334.40</td>\n",
       "      <td>3.841176</td>\n",
       "      <td>0</td>\n",
       "      <td>NORWAY</td>\n",
       "      <td>0</td>\n",
       "    </tr>\n",
       "  </tbody>\n",
       "</table>\n",
       "</div>"
      ],
      "text/plain": [
       "            Order_per_Customer  Quantity_per_Customer  Total_Spending  \\\n",
       "CustomerID                                                              \n",
       "12346.0                      2                      0            0.00   \n",
       "12347.0                    182                   2458         4310.00   \n",
       "12348.0                     31                   2341         1797.24   \n",
       "12349.0                     73                    631         1757.55   \n",
       "12350.0                     17                    197          334.40   \n",
       "\n",
       "            Avg_Item_Price  Order_Cancellations         Country  \\\n",
       "CustomerID                                                        \n",
       "12346.0           1.040000                    1  UNITED KINGDOM   \n",
       "12347.0           2.644011                    0         ICELAND   \n",
       "12348.0           5.764839                    0         FINLAND   \n",
       "12349.0           8.289041                    0           ITALY   \n",
       "12350.0           3.841176                    0          NORWAY   \n",
       "\n",
       "            Days_As_Customer  \n",
       "CustomerID                    \n",
       "12346.0                    0  \n",
       "12347.0                  365  \n",
       "12348.0                  282  \n",
       "12349.0                    0  \n",
       "12350.0                    0  "
      ]
     },
     "execution_count": 35,
     "metadata": {},
     "output_type": "execute_result"
    }
   ],
   "source": [
    "Customer_Profile = pd.merge(Customer_Profile , customer_order_span, on='CustomerID')\n",
    "Customer_Profile.head()"
   ]
  },
  {
   "cell_type": "code",
   "execution_count": 36,
   "id": "524f63dc",
   "metadata": {},
   "outputs": [
    {
     "data": {
      "text/plain": [
       "(4372, 7)"
      ]
     },
     "execution_count": 36,
     "metadata": {},
     "output_type": "execute_result"
    }
   ],
   "source": [
    "# Checking Shape of `Customer_Profile`\n",
    "Customer_Profile.shape"
   ]
  },
  {
   "cell_type": "markdown",
   "id": "d7bae387-9e23-458a-a661-18517bee5394",
   "metadata": {},
   "source": [
    "After merging, Our **`Customer_Profile`** dataset contains the following variables:\n",
    "- **`CustomrID`** : Customer unique identierfier\n",
    "- **`Order_per_Customer`** : Total number Orders made by each customer\n",
    "- **`Quantity_per_Customer`** : Total Quantity of orders placed by each customer \n",
    "- **`Total_Spending`** : Total amount spend by each customer\n",
    "- **`Avg_Item_Price`** : Average price of items purchased by the customer\n",
    "- **`Order_Cancellations`** : Total number of orders cancelled by each customer \n",
    "- **`Country`** : Country of the Customer\n",
    "- **`Days_As_Customer`** : Number of days between first and last order placed by the customerer"
   ]
  },
  {
   "cell_type": "code",
   "execution_count": null,
   "id": "a6f9cfa1",
   "metadata": {},
   "outputs": [],
   "source": [
    "\n"
   ]
  },
  {
   "cell_type": "code",
   "execution_count": null,
   "id": "6de9dacd",
   "metadata": {},
   "outputs": [],
   "source": []
  },
  {
   "cell_type": "code",
   "execution_count": null,
   "id": "0615a268",
   "metadata": {},
   "outputs": [],
   "source": []
  },
  {
   "cell_type": "code",
   "execution_count": null,
   "id": "5ae3a0fd",
   "metadata": {},
   "outputs": [],
   "source": []
  }
 ],
 "metadata": {
  "kernelspec": {
   "display_name": "Python 3 (ipykernel)",
   "language": "python",
   "name": "python3"
  },
  "language_info": {
   "codemirror_mode": {
    "name": "ipython",
    "version": 3
   },
   "file_extension": ".py",
   "mimetype": "text/x-python",
   "name": "python",
   "nbconvert_exporter": "python",
   "pygments_lexer": "ipython3",
   "version": "3.11.7"
  }
 },
 "nbformat": 4,
 "nbformat_minor": 5
}
